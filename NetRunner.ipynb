{
 "cells": [
  {
   "cell_type": "code",
   "execution_count": 3,
   "metadata": {},
   "outputs": [],
   "source": [
    "import argparse\n",
    "import json\n",
    "from mininet.cli import CLI\n",
    "from mininet.log import lg\n",
    "from mininet.node import RemoteController, OVSSwitch\n",
    "from mininet.net import Mininet\n",
    "from mininet.topo import Topo\n",
    "from mininet.link import TCLink\n",
    "from functools import partial\n",
    "from networkx.readwrite import json_graph"
   ]
  },
  {
   "cell_type": "code",
   "execution_count": 4,
   "metadata": {},
   "outputs": [],
   "source": [
    "OVSSwitch13 = partial(OVSSwitch, protocols='OpenFlow13')"
   ]
  },
  {
   "cell_type": "code",
   "execution_count": 5,
   "metadata": {},
   "outputs": [],
   "source": [
    "def bytes_to_int(bytes):\n",
    "    return int(bytes.encode('hex'), 16)"
   ]
  },
  {
   "cell_type": "code",
   "execution_count": 6,
   "metadata": {},
   "outputs": [],
   "source": [
    "def hex_strip(n):\n",
    "    hexString = hex(n)\n",
    "    plainString = hexString.split(\"0x\")[1]  # Gets rid of the Ox of the hex string\n",
    "    return plainString.split(\"L\")[0]  # Gets rid of the trailing L if any"
   ]
  },
  {
   "cell_type": "code",
   "execution_count": 7,
   "metadata": {},
   "outputs": [],
   "source": [
    "class GraphTopoFixedAddrPorts(Topo):\n",
    "    def __init__(self, graph, **opts):\n",
    "        listenPort = 6634\n",
    "        Topo.__init__(self, **opts)\n",
    "        nodes = graph.nodes()\n",
    "        node_names = {}\n",
    "        for node in nodes:  # node is the unicode string name of the node\n",
    "            tmp_node = graph.node[node]\n",
    "            if tmp_node['type'] == 'switch':\n",
    "                our_dpid = hex_strip(bytes_to_int(node.encode('ascii')))\n",
    "                print \"Node: {} dpid: {}\".format(node, our_dpid)\n",
    "                switch = self.addSwitch(node.encode('ascii'), listenPort=listenPort,\n",
    "                                        dpid=our_dpid)\n",
    "                listenPort += 1\n",
    "                node_names[node.encode('ascii')] = switch\n",
    "            else:\n",
    "                host = self.addHost(node.encode('ascii'), **tmp_node)\n",
    "                node_names[node.encode('ascii')] = host\n",
    "        edges = graph.edges()\n",
    "        for edge in edges:\n",
    "            props = graph.get_edge_data(edge[0], edge[1])\n",
    "            delay = str(props['weight']) + \"ms\"\n",
    "            bw = props['capacity']\n",
    "            port1 = props['ports'][edge[0]]\n",
    "            port2 = props['ports'][edge[1]]\n",
    "            self.addLink(node_names[edge[0]], node_names[edge[1]], port1=port1, port2=port2,\n",
    "                         delay=delay, bw=bw)\n",
    "\n",
    "    @staticmethod\n",
    "    def from_file(filename):\n",
    "        f = open(filename)\n",
    "        tmp_graph = json_graph.node_link_graph(json.load(f))\n",
    "        f.close()\n",
    "        return GraphTopoFixedAddrPorts(tmp_graph)"
   ]
  },
  {
   "cell_type": "code",
   "execution_count": 8,
   "metadata": {},
   "outputs": [
    {
     "name": "stdout",
     "output_type": "stream",
     "text": [
      "0\n"
     ]
    }
   ],
   "source": [
    "import os\n",
    "os.system(\"sudo su\")\n",
    "def getuidos():\n",
    "    return 0\n",
    "os.getuid = getuidos\n",
    "print(os.getuid())"
   ]
  },
  {
   "cell_type": "code",
   "execution_count": 1,
   "metadata": {},
   "outputs": [
    {
     "ename": "NameError",
     "evalue": "name 'argparse' is not defined",
     "output_type": "error",
     "traceback": [
      "\u001b[0;31m---------------------------------------------------------------------------\u001b[0m",
      "\u001b[0;31mNameError\u001b[0m                                 Traceback (most recent call last)",
      "\u001b[0;32m<ipython-input-1-a621247608b6>\u001b[0m in \u001b[0;36m<module>\u001b[0;34m()\u001b[0m\n\u001b[1;32m      7\u001b[0m     \u001b[0mos\u001b[0m\u001b[0;34m.\u001b[0m\u001b[0msystem\u001b[0m\u001b[0;34m(\u001b[0m\u001b[0;34m\"sudo python2.7 NetRunnerNS.py -f \"\u001b[0m \u001b[0;34m+\u001b[0m \u001b[0mfname\u001b[0m \u001b[0;34m+\u001b[0m \u001b[0;34m\" -ip \"\u001b[0m \u001b[0;34m+\u001b[0m \u001b[0mremoteIP\u001b[0m\u001b[0;34m)\u001b[0m\u001b[0;34m\u001b[0m\u001b[0m\n\u001b[1;32m      8\u001b[0m     \u001b[0mexit\u001b[0m\u001b[0;34m(\u001b[0m\u001b[0;34m)\u001b[0m\u001b[0;34m\u001b[0m\u001b[0m\n\u001b[0;32m----> 9\u001b[0;31m     \u001b[0mparser\u001b[0m \u001b[0;34m=\u001b[0m \u001b[0margparse\u001b[0m\u001b[0;34m.\u001b[0m\u001b[0mArgumentParser\u001b[0m\u001b[0;34m(\u001b[0m\u001b[0;34m)\u001b[0m\u001b[0;34m\u001b[0m\u001b[0m\n\u001b[0m\u001b[1;32m     10\u001b[0m     \u001b[0mparser\u001b[0m\u001b[0;34m.\u001b[0m\u001b[0madd_argument\u001b[0m\u001b[0;34m(\u001b[0m\u001b[0;34m\"-f\"\u001b[0m\u001b[0;34m,\u001b[0m \u001b[0;34m\"--fname\"\u001b[0m\u001b[0;34m,\u001b[0m \u001b[0mhelp\u001b[0m\u001b[0;34m=\u001b[0m\u001b[0;34m\"network graph file name\"\u001b[0m\u001b[0;34m)\u001b[0m\u001b[0;34m\u001b[0m\u001b[0m\n\u001b[1;32m     11\u001b[0m     \u001b[0mparser\u001b[0m\u001b[0;34m.\u001b[0m\u001b[0madd_argument\u001b[0m\u001b[0;34m(\u001b[0m\u001b[0;34m\"-ip\"\u001b[0m\u001b[0;34m,\u001b[0m \u001b[0;34m\"--remote_ip\"\u001b[0m\u001b[0;34m,\u001b[0m \u001b[0mhelp\u001b[0m\u001b[0;34m=\u001b[0m\u001b[0;34m\"IP address of remote controller\"\u001b[0m\u001b[0;34m)\u001b[0m\u001b[0;34m\u001b[0m\u001b[0m\n",
      "\u001b[0;31mNameError\u001b[0m: name 'argparse' is not defined"
     ]
    }
   ],
   "source": [
    "import sys\n",
    "if __name__ == '__main__':\n",
    "    fname = \"./topologies/simpleNet.json\"  # You can put your default file here\n",
    "    remoteIP = \"127.0.0.1\"  # Put your default remote IP here\n",
    "    sys.argv = [\"NetRunnerNS.py\", \"-f\", fname, \"-ip\", remoteIP]\n",
    "    parser = argparse.ArgumentParser()\n",
    "    parser.add_argument(\"-f\", \"--fname\", help=\"network graph file name\")\n",
    "    parser.add_argument(\"-ip\", \"--remote_ip\", help=\"IP address of remote controller\")\n",
    "    args = parser.parse_args()\n",
    "    if not args.fname:\n",
    "        print \"fname not specified using: {}\".format(fname)\n",
    "    else:\n",
    "        fname = args.fname\n",
    "    if not args.remote_ip:\n",
    "        print \"remote controller IP not specified using: {}\".format(remoteIP)\n",
    "    else:\n",
    "        remoteIP = args.remote_ip\n",
    "    print(remoteIP, fname)\n",
    "    topo = GraphTopoFixedAddrPorts.from_file(fname)\n",
    "    lg.setLogLevel('info')\n",
    "    network = Mininet(controller=RemoteController, autoStaticArp=True, link=TCLink, switch=OVSSwitch13)\n",
    "    network.addController(controller=RemoteController, ip=remoteIP)\n",
    "    network.buildFromTopo(topo=topo)\n",
    "    network.start()\n",
    "    print(network.hosts)\n",
    "#     CLI(network)\n",
    "    #network.stop()"
   ]
  },
  {
   "cell_type": "code",
   "execution_count": null,
   "metadata": {},
   "outputs": [],
   "source": []
  },
  {
   "cell_type": "code",
   "execution_count": null,
   "metadata": {},
   "outputs": [],
   "source": []
  }
 ],
 "metadata": {
  "kernelspec": {
   "display_name": "Python 2",
   "language": "python",
   "name": "python2"
  },
  "language_info": {
   "codemirror_mode": {
    "name": "ipython",
    "version": 2
   },
   "file_extension": ".py",
   "mimetype": "text/x-python",
   "name": "python",
   "nbconvert_exporter": "python",
   "pygments_lexer": "ipython2",
   "version": "2.7.15rc1"
  }
 },
 "nbformat": 4,
 "nbformat_minor": 2
}
